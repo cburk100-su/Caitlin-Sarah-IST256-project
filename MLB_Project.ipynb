{
 "cells": [
  {
   "cell_type": "code",
   "execution_count": 8,
   "metadata": {},
   "outputs": [],
   "source": [
    "import requests\n",
    "import json"
   ]
  },
  {
   "cell_type": "code",
   "execution_count": 10,
   "metadata": {},
   "outputs": [
    {
     "name": "stdout",
     "output_type": "stream",
     "text": [
      "What MLB team's stadium are you going to? Dodgers\n",
      "This is not a valid team, are you sure it's MLB? \n",
      "This is not a valid team, are you sure it's MLB? \n",
      "This is not a valid team, are you sure it's MLB? \n",
      "This is not a valid team, are you sure it's MLB? \n",
      "This is not a valid team, are you sure it's MLB? \n",
      "This is not a valid team, are you sure it's MLB? \n",
      "This is not a valid team, are you sure it's MLB? \n",
      "This is not a valid team, are you sure it's MLB? \n",
      "This is not a valid team, are you sure it's MLB? \n",
      "This is not a valid team, are you sure it's MLB? \n",
      "This is not a valid team, are you sure it's MLB? \n",
      "This is not a valid team, are you sure it's MLB? \n",
      "This is not a valid team, are you sure it's MLB? \n",
      "This is not a valid team, are you sure it's MLB? \n",
      "This is not a valid team, are you sure it's MLB? \n",
      "This is not a valid team, are you sure it's MLB? \n",
      "This is not a valid team, are you sure it's MLB? \n",
      "This is not a valid team, are you sure it's MLB? \n",
      "This is not a valid team, are you sure it's MLB? \n",
      "This is not a valid team, are you sure it's MLB? \n",
      "While you're in Los Angeles, you should check out these restaurants: \n"
     ]
    }
   ],
   "source": [
    "##Team File\n",
    "\n",
    "filename = 'teams.txt'\n",
    "try:\n",
    "    with open (filename, \"r\") as f:\n",
    "        city = input(\"What MLB team's stadium are you going to? \").title()\n",
    "        for line in f.readlines():\n",
    "            if city in line:\n",
    "                city_name = line.split(\",\")[0]\n",
    "                ## we this is where we want to connect to the zomato and use this city to pull restaurants from that city\n",
    "                print(\"While you're in %s, you should check out these restaurants: \" % (city_name))#list 3-5\n",
    "                break\n",
    "            else:\n",
    "                print(\"This is not a valid team, are you sure it's MLB? \")\n",
    "except FileNotFoundError:\n",
    "    print(\"Could not find data file '%s'\" % (filename))\n",
    "\n"
   ]
  },
  {
   "cell_type": "code",
   "execution_count": 2,
   "metadata": {},
   "outputs": [
    {
     "ename": "NameError",
     "evalue": "name 'rest' is not defined",
     "output_type": "error",
     "traceback": [
      "\u001b[0;31m---------------------------------------------------------------------------\u001b[0m",
      "\u001b[0;31mNameError\u001b[0m                                 Traceback (most recent call last)",
      "\u001b[0;32m<ipython-input-2-66bd974206ec>\u001b[0m in \u001b[0;36m<module>\u001b[0;34m()\u001b[0m\n\u001b[1;32m      6\u001b[0m     \u001b[0mdata\u001b[0m \u001b[0;34m=\u001b[0m \u001b[0mresponse\u001b[0m\u001b[0;34m.\u001b[0m\u001b[0mjson\u001b[0m\u001b[0;34m(\u001b[0m\u001b[0;34m)\u001b[0m\u001b[0;34m\u001b[0m\u001b[0m\n\u001b[1;32m      7\u001b[0m     \u001b[0;32mreturn\u001b[0m \u001b[0mdata\u001b[0m \u001b[0;34m[\u001b[0m\u001b[0;34m'food'\u001b[0m\u001b[0;34m]\u001b[0m\u001b[0;34m\u001b[0m\u001b[0m\n\u001b[0;32m----> 8\u001b[0;31m \u001b[0mget_restaurant_data\u001b[0m\u001b[0;34m(\u001b[0m\u001b[0mrest\u001b[0m\u001b[0;34m)\u001b[0m\u001b[0;34m\u001b[0m\u001b[0m\n\u001b[0m",
      "\u001b[0;31mNameError\u001b[0m: name 'rest' is not defined"
     ]
    }
   ],
   "source": [
    "def get_restaurant_data():\n",
    "    key = 'b8e976503emsh937e0dd2ea12634p1960b0jsndeaa7c6ecd60'\n",
    "    url = 'https://ZomatoraygorodskijV1.p.rapidapi.com/getAllCategories' (key)\n",
    "    params = {'city': 'Dinner'}\n",
    "    response = requests.get(url, verify = False)\n",
    "    data = response.json()\n",
    "    return data ['food']\n",
    "get_restaurant_data()"
   ]
  },
  {
   "cell_type": "code",
   "execution_count": 4,
   "metadata": {},
   "outputs": [
    {
     "name": "stdout",
     "output_type": "stream",
     "text": [
      "What MLB team's stadium are you visiting? Giants\n"
     ]
    },
    {
     "ename": "TypeError",
     "evalue": "get_restaurant_data() missing 1 required positional argument: 'rest'",
     "output_type": "error",
     "traceback": [
      "\u001b[0;31m---------------------------------------------------------------------------\u001b[0m",
      "\u001b[0;31mTypeError\u001b[0m                                 Traceback (most recent call last)",
      "\u001b[0;32m<ipython-input-4-588f55a93f50>\u001b[0m in \u001b[0;36m<module>\u001b[0;34m()\u001b[0m\n\u001b[1;32m      1\u001b[0m \u001b[0mteam\u001b[0m \u001b[0;34m=\u001b[0m \u001b[0minput\u001b[0m\u001b[0;34m(\u001b[0m\u001b[0;34m\"What MLB team's stadium are you visiting? \"\u001b[0m\u001b[0;34m)\u001b[0m\u001b[0;34m\u001b[0m\u001b[0m\n\u001b[0;32m----> 2\u001b[0;31m \u001b[0mplace\u001b[0m \u001b[0;34m=\u001b[0m \u001b[0mget_restaurant_data\u001b[0m\u001b[0;34m(\u001b[0m\u001b[0;34m)\u001b[0m\u001b[0;34m\u001b[0m\u001b[0m\n\u001b[0m",
      "\u001b[0;31mTypeError\u001b[0m: get_restaurant_data() missing 1 required positional argument: 'rest'"
     ]
    }
   ],
   "source": [
    "team = input(\"What MLB team's stadium are you visiting? \")\n",
    "place = get_restaurant_data()\n"
   ]
  },
  {
   "cell_type": "code",
   "execution_count": null,
   "metadata": {},
   "outputs": [],
   "source": []
  }
 ],
 "metadata": {
  "kernelspec": {
   "display_name": "Python 3",
   "language": "python",
   "name": "python3"
  },
  "language_info": {
   "codemirror_mode": {
    "name": "ipython",
    "version": 3
   },
   "file_extension": ".py",
   "mimetype": "text/x-python",
   "name": "python",
   "nbconvert_exporter": "python",
   "pygments_lexer": "ipython3",
   "version": "3.6.6"
  }
 },
 "nbformat": 4,
 "nbformat_minor": 2
}
